{
 "cells": [
  {
   "attachments": {},
   "cell_type": "markdown",
   "metadata": {},
   "source": [
    "<b> MIT 6.803: The Human Intelligence Enterprise</b>\n",
    "\n",
    "# A Review of “Computing Intelligence and Machinery” by Alan Turing\n",
    "\n",
    "<b><h3> Ashish Rao Mangalore </h3></b>"
   ]
  },
  {
   "attachments": {},
   "cell_type": "markdown",
   "metadata": {},
   "source": [
    "The question Turing tries to answer is <b>“Can machines think?”</b>. However, because of the ambiguity in the meaning of the word “Think”, Turing tries to rephrase the question into a different one which is, can a machine successfully play the imitation game? The idea behind answering a different question is to make its answer more driven by logic than by popular influences. It also eliminates the physical characteristics of a human which do not contribute in any way to his/her ability to think.\n",
    "\n",
    "Turing is fairly optimistic about the success of a machine in this game. His quote, <i>“I have no very convincing arguments of a positive nature to support my views. If I had I should not have taken such pains to point out the fallacies in contrary views”</i> highlights that his optimism is driven more by hopefulness of future advancements in computer science than by a solid theory. Turing predicts that at least a digital computer would be able to have a chance at this game, if it had reasonable computation speed and storage space. He justifies this by arguing that thinking is brought out by the mathematical models governing the functioning of the machine than the method of operation. Turing believes by the end of the century, humanity will have seen machines which can play the imitation game. However, this hasn’t materialized till date although parts of his prediction like machines that can play chess, powerful digital computers have been realized. Turing’s test was backed by his notion of “Thinking” rather than a consolidated theory. It should therefore come as no surprise that we haven’t been able to pass the Turing test yet.\n",
    "Turing presumes that visual, motor and linguistic capabilities of humans are superficial to the process of thinking. The inability to move, see or speak a language should not lead to the conclusion that something/someone cannot think. This argument seems plausible as we can see blind, paraplegics and dumb people who can think just as well as any able bodied human. However, according to Turing, learning plays a large part in thinking. He proposes to decrease the complexity of learning by developing a simple child machine and subjecting it rules and rewards (education) a normal human experiences as he transitions to adulthood. Turing although, does not explicitly state how the child machine could be built. \n",
    "\n",
    "As a devotee of Turing, I would be fascinated by his foresight of computing and the numerous things he has been able to describe almost accurately. This would in turn lead me to believe that his notion of “Thinking” is right. However, the Turing test has never been explained with mathematical reasoning why it is a litmus test for thinking. Moreover, Turing seems to club thinking and feeling under the same heading which seems out of place. Turing also seems to be support the fact that we may not be able to fully understand why a machine thinks. If this notion about “thinking” is true, then it would mean we wouldn’t be able to successfully replicate our thinking machines as required. "
   ]
  },
  {
   "cell_type": "code",
   "execution_count": null,
   "metadata": {
    "collapsed": true
   },
   "outputs": [],
   "source": []
  }
 ],
 "metadata": {
  "kernelspec": {
   "display_name": "Python 2",
   "language": "python",
   "name": "python2"
  },
  "language_info": {
   "codemirror_mode": {
    "name": "ipython",
    "version": 2
   },
   "file_extension": ".py",
   "mimetype": "text/x-python",
   "name": "python",
   "nbconvert_exporter": "python",
   "pygments_lexer": "ipython2",
   "version": "2.7.13"
  }
 },
 "nbformat": 4,
 "nbformat_minor": 2
}
